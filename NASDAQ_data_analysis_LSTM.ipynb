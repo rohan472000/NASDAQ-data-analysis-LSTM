{
  "nbformat": 4,
  "nbformat_minor": 0,
  "metadata": {
    "colab": {
      "provenance": [],
      "mount_file_id": "19AKfJhcxNBO5h4XdbHEDUBHn5BRxnyG_",
      "authorship_tag": "ABX9TyPFGxTSm1LDp0ZtvrCWnCNm",
      "include_colab_link": true
    },
    "kernelspec": {
      "name": "python3",
      "display_name": "Python 3"
    },
    "language_info": {
      "name": "python"
    }
  },
  "cells": [
    {
      "cell_type": "markdown",
      "metadata": {
        "id": "view-in-github",
        "colab_type": "text"
      },
      "source": [
        "<a href=\"https://colab.research.google.com/github/rohan472000/NASDAQ-data-analysis-LSTM/blob/main/NASDAQ_data_analysis_LSTM.ipynb\" target=\"_parent\"><img src=\"https://colab.research.google.com/assets/colab-badge.svg\" alt=\"Open In Colab\"/></a>"
      ]
    },
    {
      "cell_type": "code",
      "execution_count": 71,
      "metadata": {
        "id": "Scgv_BYl_sCT"
      },
      "outputs": [],
      "source": [
        "import pandas_datareader as pdr"
      ]
    },
    {
      "cell_type": "code",
      "source": [
        "key=\"\"    # your tiingo api key"
      ],
      "metadata": {
        "id": "p1jz2pMNIHSp"
      },
      "execution_count": 72,
      "outputs": []
    },
    {
      "cell_type": "code",
      "source": [
        "df = pdr.get_data_tiingo('NDAQ', api_key=key)"
      ],
      "metadata": {
        "colab": {
          "base_uri": "https://localhost:8080/"
        },
        "id": "sj5IBJZj_wyU",
        "outputId": "3c1b6383-3847-490c-d5fc-9969a1f79906"
      },
      "execution_count": 2,
      "outputs": [
        {
          "output_type": "stream",
          "name": "stderr",
          "text": [
            "/usr/local/lib/python3.8/dist-packages/pandas_datareader/tiingo.py:234: FutureWarning: In a future version of pandas all arguments of concat except for the argument 'objs' will be keyword-only\n",
            "  return pd.concat(dfs, self._concat_axis)\n"
          ]
        }
      ]
    },
    {
      "cell_type": "code",
      "source": [
        "import pandas as pd\n",
        "import matplotlib.pyplot as plt\n",
        "import numpy as np\n",
        "from sklearn.preprocessing import MinMaxScaler\n",
        "import math\n",
        "from sklearn.metrics import mean_squared_error\n",
        "from numpy import array"
      ],
      "metadata": {
        "id": "loYciMeL_5lk"
      },
      "execution_count": 51,
      "outputs": []
    },
    {
      "cell_type": "code",
      "source": [
        "dirname='drive/My Drive/NDAQ.csv'\n",
        "df.to_csv(dirname)\n",
        "df=pd.read_csv('drive/My Drive/NDAQ.csv')\n",
        "df.head()"
      ],
      "metadata": {
        "colab": {
          "base_uri": "https://localhost:8080/",
          "height": 206
        },
        "id": "SkambOqf_0JX",
        "outputId": "c70a2a40-3fc1-473a-9ec0-1984baddc2dd"
      },
      "execution_count": 5,
      "outputs": [
        {
          "output_type": "execute_result",
          "data": {
            "text/plain": [
              "  symbol                       date  close   high    low   open   volume  \\\n",
              "0   NDAQ  2017-12-29 00:00:00+00:00  76.83  77.17  76.60  76.80   921839   \n",
              "1   NDAQ  2018-01-02 00:00:00+00:00  76.74  77.32  76.47  77.15  1119938   \n",
              "2   NDAQ  2018-01-03 00:00:00+00:00  77.66  77.87  76.58  76.64   998415   \n",
              "3   NDAQ  2018-01-04 00:00:00+00:00  78.69  78.96  77.54  77.64   956602   \n",
              "4   NDAQ  2018-01-05 00:00:00+00:00  79.21  79.55  78.70  79.01   926725   \n",
              "\n",
              "    adjClose    adjHigh     adjLow    adjOpen  adjVolume  divCash  splitFactor  \n",
              "0  23.614516  23.719019  23.543823  23.605296    2765517      0.0          1.0  \n",
              "1  23.586854  23.765123  23.503867  23.712872    3359814      0.0          1.0  \n",
              "2  23.869626  23.934171  23.537676  23.556118    2995245      0.0          1.0  \n",
              "3  24.186207  24.269194  23.832742  23.863478    2869806      0.0          1.0  \n",
              "4  24.346035  24.450537  24.189281  24.284562    2780175      0.0          1.0  "
            ],
            "text/html": [
              "\n",
              "  <div id=\"df-bc1c905d-77bc-4290-96ba-5a3716a2caf3\">\n",
              "    <div class=\"colab-df-container\">\n",
              "      <div>\n",
              "<style scoped>\n",
              "    .dataframe tbody tr th:only-of-type {\n",
              "        vertical-align: middle;\n",
              "    }\n",
              "\n",
              "    .dataframe tbody tr th {\n",
              "        vertical-align: top;\n",
              "    }\n",
              "\n",
              "    .dataframe thead th {\n",
              "        text-align: right;\n",
              "    }\n",
              "</style>\n",
              "<table border=\"1\" class=\"dataframe\">\n",
              "  <thead>\n",
              "    <tr style=\"text-align: right;\">\n",
              "      <th></th>\n",
              "      <th>symbol</th>\n",
              "      <th>date</th>\n",
              "      <th>close</th>\n",
              "      <th>high</th>\n",
              "      <th>low</th>\n",
              "      <th>open</th>\n",
              "      <th>volume</th>\n",
              "      <th>adjClose</th>\n",
              "      <th>adjHigh</th>\n",
              "      <th>adjLow</th>\n",
              "      <th>adjOpen</th>\n",
              "      <th>adjVolume</th>\n",
              "      <th>divCash</th>\n",
              "      <th>splitFactor</th>\n",
              "    </tr>\n",
              "  </thead>\n",
              "  <tbody>\n",
              "    <tr>\n",
              "      <th>0</th>\n",
              "      <td>NDAQ</td>\n",
              "      <td>2017-12-29 00:00:00+00:00</td>\n",
              "      <td>76.83</td>\n",
              "      <td>77.17</td>\n",
              "      <td>76.60</td>\n",
              "      <td>76.80</td>\n",
              "      <td>921839</td>\n",
              "      <td>23.614516</td>\n",
              "      <td>23.719019</td>\n",
              "      <td>23.543823</td>\n",
              "      <td>23.605296</td>\n",
              "      <td>2765517</td>\n",
              "      <td>0.0</td>\n",
              "      <td>1.0</td>\n",
              "    </tr>\n",
              "    <tr>\n",
              "      <th>1</th>\n",
              "      <td>NDAQ</td>\n",
              "      <td>2018-01-02 00:00:00+00:00</td>\n",
              "      <td>76.74</td>\n",
              "      <td>77.32</td>\n",
              "      <td>76.47</td>\n",
              "      <td>77.15</td>\n",
              "      <td>1119938</td>\n",
              "      <td>23.586854</td>\n",
              "      <td>23.765123</td>\n",
              "      <td>23.503867</td>\n",
              "      <td>23.712872</td>\n",
              "      <td>3359814</td>\n",
              "      <td>0.0</td>\n",
              "      <td>1.0</td>\n",
              "    </tr>\n",
              "    <tr>\n",
              "      <th>2</th>\n",
              "      <td>NDAQ</td>\n",
              "      <td>2018-01-03 00:00:00+00:00</td>\n",
              "      <td>77.66</td>\n",
              "      <td>77.87</td>\n",
              "      <td>76.58</td>\n",
              "      <td>76.64</td>\n",
              "      <td>998415</td>\n",
              "      <td>23.869626</td>\n",
              "      <td>23.934171</td>\n",
              "      <td>23.537676</td>\n",
              "      <td>23.556118</td>\n",
              "      <td>2995245</td>\n",
              "      <td>0.0</td>\n",
              "      <td>1.0</td>\n",
              "    </tr>\n",
              "    <tr>\n",
              "      <th>3</th>\n",
              "      <td>NDAQ</td>\n",
              "      <td>2018-01-04 00:00:00+00:00</td>\n",
              "      <td>78.69</td>\n",
              "      <td>78.96</td>\n",
              "      <td>77.54</td>\n",
              "      <td>77.64</td>\n",
              "      <td>956602</td>\n",
              "      <td>24.186207</td>\n",
              "      <td>24.269194</td>\n",
              "      <td>23.832742</td>\n",
              "      <td>23.863478</td>\n",
              "      <td>2869806</td>\n",
              "      <td>0.0</td>\n",
              "      <td>1.0</td>\n",
              "    </tr>\n",
              "    <tr>\n",
              "      <th>4</th>\n",
              "      <td>NDAQ</td>\n",
              "      <td>2018-01-05 00:00:00+00:00</td>\n",
              "      <td>79.21</td>\n",
              "      <td>79.55</td>\n",
              "      <td>78.70</td>\n",
              "      <td>79.01</td>\n",
              "      <td>926725</td>\n",
              "      <td>24.346035</td>\n",
              "      <td>24.450537</td>\n",
              "      <td>24.189281</td>\n",
              "      <td>24.284562</td>\n",
              "      <td>2780175</td>\n",
              "      <td>0.0</td>\n",
              "      <td>1.0</td>\n",
              "    </tr>\n",
              "  </tbody>\n",
              "</table>\n",
              "</div>\n",
              "      <button class=\"colab-df-convert\" onclick=\"convertToInteractive('df-bc1c905d-77bc-4290-96ba-5a3716a2caf3')\"\n",
              "              title=\"Convert this dataframe to an interactive table.\"\n",
              "              style=\"display:none;\">\n",
              "        \n",
              "  <svg xmlns=\"http://www.w3.org/2000/svg\" height=\"24px\"viewBox=\"0 0 24 24\"\n",
              "       width=\"24px\">\n",
              "    <path d=\"M0 0h24v24H0V0z\" fill=\"none\"/>\n",
              "    <path d=\"M18.56 5.44l.94 2.06.94-2.06 2.06-.94-2.06-.94-.94-2.06-.94 2.06-2.06.94zm-11 1L8.5 8.5l.94-2.06 2.06-.94-2.06-.94L8.5 2.5l-.94 2.06-2.06.94zm10 10l.94 2.06.94-2.06 2.06-.94-2.06-.94-.94-2.06-.94 2.06-2.06.94z\"/><path d=\"M17.41 7.96l-1.37-1.37c-.4-.4-.92-.59-1.43-.59-.52 0-1.04.2-1.43.59L10.3 9.45l-7.72 7.72c-.78.78-.78 2.05 0 2.83L4 21.41c.39.39.9.59 1.41.59.51 0 1.02-.2 1.41-.59l7.78-7.78 2.81-2.81c.8-.78.8-2.07 0-2.86zM5.41 20L4 18.59l7.72-7.72 1.47 1.35L5.41 20z\"/>\n",
              "  </svg>\n",
              "      </button>\n",
              "      \n",
              "  <style>\n",
              "    .colab-df-container {\n",
              "      display:flex;\n",
              "      flex-wrap:wrap;\n",
              "      gap: 12px;\n",
              "    }\n",
              "\n",
              "    .colab-df-convert {\n",
              "      background-color: #E8F0FE;\n",
              "      border: none;\n",
              "      border-radius: 50%;\n",
              "      cursor: pointer;\n",
              "      display: none;\n",
              "      fill: #1967D2;\n",
              "      height: 32px;\n",
              "      padding: 0 0 0 0;\n",
              "      width: 32px;\n",
              "    }\n",
              "\n",
              "    .colab-df-convert:hover {\n",
              "      background-color: #E2EBFA;\n",
              "      box-shadow: 0px 1px 2px rgba(60, 64, 67, 0.3), 0px 1px 3px 1px rgba(60, 64, 67, 0.15);\n",
              "      fill: #174EA6;\n",
              "    }\n",
              "\n",
              "    [theme=dark] .colab-df-convert {\n",
              "      background-color: #3B4455;\n",
              "      fill: #D2E3FC;\n",
              "    }\n",
              "\n",
              "    [theme=dark] .colab-df-convert:hover {\n",
              "      background-color: #434B5C;\n",
              "      box-shadow: 0px 1px 3px 1px rgba(0, 0, 0, 0.15);\n",
              "      filter: drop-shadow(0px 1px 2px rgba(0, 0, 0, 0.3));\n",
              "      fill: #FFFFFF;\n",
              "    }\n",
              "  </style>\n",
              "\n",
              "      <script>\n",
              "        const buttonEl =\n",
              "          document.querySelector('#df-bc1c905d-77bc-4290-96ba-5a3716a2caf3 button.colab-df-convert');\n",
              "        buttonEl.style.display =\n",
              "          google.colab.kernel.accessAllowed ? 'block' : 'none';\n",
              "\n",
              "        async function convertToInteractive(key) {\n",
              "          const element = document.querySelector('#df-bc1c905d-77bc-4290-96ba-5a3716a2caf3');\n",
              "          const dataTable =\n",
              "            await google.colab.kernel.invokeFunction('convertToInteractive',\n",
              "                                                     [key], {});\n",
              "          if (!dataTable) return;\n",
              "\n",
              "          const docLinkHtml = 'Like what you see? Visit the ' +\n",
              "            '<a target=\"_blank\" href=https://colab.research.google.com/notebooks/data_table.ipynb>data table notebook</a>'\n",
              "            + ' to learn more about interactive tables.';\n",
              "          element.innerHTML = '';\n",
              "          dataTable['output_type'] = 'display_data';\n",
              "          await google.colab.output.renderOutput(dataTable, element);\n",
              "          const docLink = document.createElement('div');\n",
              "          docLink.innerHTML = docLinkHtml;\n",
              "          element.appendChild(docLink);\n",
              "        }\n",
              "      </script>\n",
              "    </div>\n",
              "  </div>\n",
              "  "
            ]
          },
          "metadata": {},
          "execution_count": 5
        }
      ]
    },
    {
      "cell_type": "code",
      "source": [
        "df1=df.reset_index()['close']\n",
        "df1"
      ],
      "metadata": {
        "colab": {
          "base_uri": "https://localhost:8080/"
        },
        "id": "J4XuP4wd_8VO",
        "outputId": "0ab4b330-dcc7-4a37-cb8f-cf7d19285dbe"
      },
      "execution_count": 6,
      "outputs": [
        {
          "output_type": "execute_result",
          "data": {
            "text/plain": [
              "0       76.83\n",
              "1       76.74\n",
              "2       77.66\n",
              "3       78.69\n",
              "4       79.21\n",
              "        ...  \n",
              "1252    60.12\n",
              "1253    61.51\n",
              "1254    61.06\n",
              "1255    61.28\n",
              "1256    60.98\n",
              "Name: close, Length: 1257, dtype: float64"
            ]
          },
          "metadata": {},
          "execution_count": 6
        }
      ]
    },
    {
      "cell_type": "code",
      "source": [
        "plt.plot(df1)"
      ],
      "metadata": {
        "colab": {
          "base_uri": "https://localhost:8080/",
          "height": 285
        },
        "id": "t2AUq7NCALN0",
        "outputId": "afa6cf46-fc4a-48db-e525-6a243c369a03"
      },
      "execution_count": 8,
      "outputs": [
        {
          "output_type": "execute_result",
          "data": {
            "text/plain": [
              "[<matplotlib.lines.Line2D at 0x7f5e775e0b50>]"
            ]
          },
          "metadata": {},
          "execution_count": 8
        },
        {
          "output_type": "display_data",
          "data": {
            "text/plain": [
              "<Figure size 432x288 with 1 Axes>"
            ],
            "image/png": "[encoded data removed]"
          },
          "metadata": {
            "needs_background": "light"
          }
        }
      ]
    },
    {
      "cell_type": "code",
      "source": [
        "scaler=MinMaxScaler(feature_range=(0,1))\n",
        "df1=scaler.fit_transform(np.array(df1).reshape(-1,1))"
      ],
      "metadata": {
        "id": "95eyfNFuAQVS"
      },
      "execution_count": 10,
      "outputs": []
    },
    {
      "cell_type": "code",
      "source": [
        "#splitting dataset into train and test split\n",
        "training_size=int(len(df1)*0.70)\n",
        "test_size=len(df1)-training_size\n",
        "train_data,test_data=df1[0:training_size,:],df1[training_size:len(df1),:1]"
      ],
      "metadata": {
        "id": "JEygqimqAZ7J"
      },
      "execution_count": 11,
      "outputs": []
    },
    {
      "cell_type": "code",
      "source": [
        "training_size,test_size"
      ],
      "metadata": {
        "colab": {
          "base_uri": "https://localhost:8080/"
        },
        "id": "uZou--fXAfTi",
        "outputId": "a083368e-f347-49d7-b4a0-4f3aad2297f2"
      },
      "execution_count": 12,
      "outputs": [
        {
          "output_type": "execute_result",
          "data": {
            "text/plain": [
              "(879, 378)"
            ]
          },
          "metadata": {},
          "execution_count": 12
        }
      ]
    },
    {
      "cell_type": "code",
      "source": [
        "def create_dataset(dataset, time_step=1):\n",
        "\tX, Y = [], []\n",
        "\tfor i in range(len(dataset)-time_step-1):\n",
        "\t\ta = dataset[i:(i+time_step), 0]   \n",
        "\t\tX.append(a)\n",
        "\t\tY.append(dataset[i + time_step, 0])\n",
        "\treturn np.array(X), np.array(Y)"
      ],
      "metadata": {
        "id": "7zmAnTzBAjQG"
      },
      "execution_count": 73,
      "outputs": []
    },
    {
      "cell_type": "code",
      "source": [
        "# reshaping\n",
        "time_step = 100\n",
        "X_train, y_train = create_dataset(train_data, time_step)\n",
        "X_test, ytest = create_dataset(test_data, time_step)"
      ],
      "metadata": {
        "id": "FmvkldHkAp42"
      },
      "execution_count": 14,
      "outputs": []
    },
    {
      "cell_type": "code",
      "source": [
        "print(X_train.shape), print(y_train.shape)"
      ],
      "metadata": {
        "colab": {
          "base_uri": "https://localhost:8080/"
        },
        "id": "1dnO_rY8AtyK",
        "outputId": "e293a98f-8295-46c7-d879-ec57f7e59c71"
      },
      "execution_count": 15,
      "outputs": [
        {
          "output_type": "stream",
          "name": "stdout",
          "text": [
            "(778, 100)\n",
            "(778,)\n"
          ]
        },
        {
          "output_type": "execute_result",
          "data": {
            "text/plain": [
              "(None, None)"
            ]
          },
          "metadata": {},
          "execution_count": 15
        }
      ]
    },
    {
      "cell_type": "code",
      "source": [
        "print(X_test.shape), print(ytest.shape)"
      ],
      "metadata": {
        "colab": {
          "base_uri": "https://localhost:8080/"
        },
        "id": "Me8w_h4sAwnW",
        "outputId": "980ecc6a-3121-41fa-826f-e5ae905fade0"
      },
      "execution_count": 16,
      "outputs": [
        {
          "output_type": "stream",
          "name": "stdout",
          "text": [
            "(277, 100)\n",
            "(277,)\n"
          ]
        },
        {
          "output_type": "execute_result",
          "data": {
            "text/plain": [
              "(None, None)"
            ]
          },
          "metadata": {},
          "execution_count": 16
        }
      ]
    },
    {
      "cell_type": "code",
      "source": [
        "# reshape from 2D to 3D\n",
        "X_train =X_train.reshape(X_train.shape[0],X_train.shape[1] , 1)\n",
        "X_test = X_test.reshape(X_test.shape[0],X_test.shape[1] , 1)"
      ],
      "metadata": {
        "id": "b0eWluGWAyW3"
      },
      "execution_count": 17,
      "outputs": []
    },
    {
      "cell_type": "code",
      "source": [
        "# Create LSTM model\n",
        "from keras.models import Sequential\n",
        "from keras.layers import Dense\n",
        "from keras.layers import LSTM"
      ],
      "metadata": {
        "id": "4yUTzVbkA42R"
      },
      "execution_count": 19,
      "outputs": []
    },
    {
      "cell_type": "code",
      "source": [
        "model=Sequential()\n",
        "model.add(LSTM(60,return_sequences=True,input_shape=(100,1)))\n",
        "model.add(LSTM(60,return_sequences=True))\n",
        "model.add(LSTM(60))\n",
        "model.add(Dense(1))\n",
        "model.compile(loss='mean_squared_error',optimizer='adam', metrics=['accuracy'])"
      ],
      "metadata": {
        "id": "VbaZbSAlA9CR"
      },
      "execution_count": 20,
      "outputs": []
    },
    {
      "cell_type": "code",
      "source": [
        "model.summary()"
      ],
      "metadata": {
        "colab": {
          "base_uri": "https://localhost:8080/"
        },
        "id": "gsh73Jl5BD-B",
        "outputId": "c050fbcf-e58c-46b7-bed8-7e570209257a"
      },
      "execution_count": 21,
      "outputs": [
        {
          "output_type": "stream",
          "name": "stdout",
          "text": [
            "Model: \"sequential\"\n",
            "_________________________________________________________________\n",
            " Layer (type)                Output Shape              Param #   \n",
            "=================================================================\n",
            " lstm (LSTM)                 (None, 100, 60)           14880     \n",
            "                                                                 \n",
            " lstm_1 (LSTM)               (None, 100, 60)           29040     \n",
            "                                                                 \n",
            " lstm_2 (LSTM)               (None, 60)                29040     \n",
            "                                                                 \n",
            " dense (Dense)               (None, 1)                 61        \n",
            "                                                                 \n",
            "=================================================================\n",
            "Total params: 73,021\n",
            "Trainable params: 73,021\n",
            "Non-trainable params: 0\n",
            "_________________________________________________________________\n"
          ]
        }
      ]
    },
    {
      "cell_type": "code",
      "source": [
        "model.fit(X_train,y_train,validation_data=(X_test,ytest),epochs=100,batch_size=70,verbose=1)"
      ],
      "metadata": {
        "colab": {
          "base_uri": "https://localhost:8080/"
        },
        "id": "jXDxhlwtBGgn",
        "outputId": "a699fbf3-374d-4c4c-91a0-ef329839d329"
      },
      "execution_count": 22,
      "outputs": [
        {
          "output_type": "stream",
          "name": "stdout",
          "text": [
            "Epoch 1/100\n",
            "12/12 [==============================] - 12s 378ms/step - loss: 0.0364 - accuracy: 0.0000e+00 - val_loss: 0.0593 - val_accuracy: 0.0036\n",
            "Epoch 2/100\n",
            "12/12 [==============================] - 3s 236ms/step - loss: 0.0065 - accuracy: 0.0000e+00 - val_loss: 0.0249 - val_accuracy: 0.0036\n",
            "Epoch 3/100\n",
            "12/12 [==============================] - 3s 243ms/step - loss: 0.0026 - accuracy: 0.0000e+00 - val_loss: 0.0232 - val_accuracy: 0.0036\n",
            "Epoch 4/100\n",
            "12/12 [==============================] - 3s 242ms/step - loss: 0.0013 - accuracy: 0.0000e+00 - val_loss: 0.0217 - val_accuracy: 0.0036\n",
            "Epoch 5/100\n",
            "12/12 [==============================] - 3s 249ms/step - loss: 9.2042e-04 - accuracy: 0.0000e+00 - val_loss: 0.0238 - val_accuracy: 0.0036\n",
            "Epoch 6/100\n",
            "12/12 [==============================] - 3s 248ms/step - loss: 9.0344e-04 - accuracy: 0.0000e+00 - val_loss: 0.0254 - val_accuracy: 0.0036\n",
            "Epoch 7/100\n",
            "12/12 [==============================] - 3s 243ms/step - loss: 8.6522e-04 - accuracy: 0.0000e+00 - val_loss: 0.0246 - val_accuracy: 0.0036\n",
            "Epoch 8/100\n",
            "12/12 [==============================] - 3s 275ms/step - loss: 8.5090e-04 - accuracy: 0.0000e+00 - val_loss: 0.0228 - val_accuracy: 0.0036\n",
            "Epoch 9/100\n",
            "12/12 [==============================] - 6s 540ms/step - loss: 8.6452e-04 - accuracy: 0.0000e+00 - val_loss: 0.0225 - val_accuracy: 0.0036\n",
            "Epoch 10/100\n",
            "12/12 [==============================] - 3s 261ms/step - loss: 8.8232e-04 - accuracy: 0.0000e+00 - val_loss: 0.0224 - val_accuracy: 0.0036\n",
            "Epoch 11/100\n",
            "12/12 [==============================] - 3s 258ms/step - loss: 8.2192e-04 - accuracy: 0.0000e+00 - val_loss: 0.0243 - val_accuracy: 0.0036\n",
            "Epoch 12/100\n",
            "12/12 [==============================] - 3s 254ms/step - loss: 8.1349e-04 - accuracy: 0.0000e+00 - val_loss: 0.0236 - val_accuracy: 0.0036\n",
            "Epoch 13/100\n",
            "12/12 [==============================] - 3s 285ms/step - loss: 8.0416e-04 - accuracy: 0.0000e+00 - val_loss: 0.0218 - val_accuracy: 0.0036\n",
            "Epoch 14/100\n",
            "12/12 [==============================] - 5s 388ms/step - loss: 8.1863e-04 - accuracy: 0.0000e+00 - val_loss: 0.0196 - val_accuracy: 0.0036\n",
            "Epoch 15/100\n",
            "12/12 [==============================] - 3s 255ms/step - loss: 8.3171e-04 - accuracy: 0.0000e+00 - val_loss: 0.0199 - val_accuracy: 0.0036\n",
            "Epoch 16/100\n",
            "12/12 [==============================] - 5s 463ms/step - loss: 8.0824e-04 - accuracy: 0.0000e+00 - val_loss: 0.0220 - val_accuracy: 0.0036\n",
            "Epoch 17/100\n",
            "12/12 [==============================] - 3s 258ms/step - loss: 8.6475e-04 - accuracy: 0.0000e+00 - val_loss: 0.0235 - val_accuracy: 0.0036\n",
            "Epoch 18/100\n",
            "12/12 [==============================] - 3s 251ms/step - loss: 7.6345e-04 - accuracy: 0.0000e+00 - val_loss: 0.0196 - val_accuracy: 0.0036\n",
            "Epoch 19/100\n",
            "12/12 [==============================] - 4s 353ms/step - loss: 7.7334e-04 - accuracy: 0.0000e+00 - val_loss: 0.0195 - val_accuracy: 0.0036\n",
            "Epoch 20/100\n",
            "12/12 [==============================] - 7s 640ms/step - loss: 8.1507e-04 - accuracy: 0.0000e+00 - val_loss: 0.0233 - val_accuracy: 0.0036\n",
            "Epoch 21/100\n",
            "12/12 [==============================] - 5s 443ms/step - loss: 9.2005e-04 - accuracy: 0.0000e+00 - val_loss: 0.0197 - val_accuracy: 0.0036\n",
            "Epoch 22/100\n",
            "12/12 [==============================] - 5s 389ms/step - loss: 7.6264e-04 - accuracy: 0.0000e+00 - val_loss: 0.0176 - val_accuracy: 0.0036\n",
            "Epoch 23/100\n",
            "12/12 [==============================] - 4s 311ms/step - loss: 7.1396e-04 - accuracy: 0.0000e+00 - val_loss: 0.0223 - val_accuracy: 0.0036\n",
            "Epoch 24/100\n",
            "12/12 [==============================] - 4s 315ms/step - loss: 7.4531e-04 - accuracy: 0.0000e+00 - val_loss: 0.0188 - val_accuracy: 0.0036\n",
            "Epoch 25/100\n",
            "12/12 [==============================] - 3s 252ms/step - loss: 6.4090e-04 - accuracy: 0.0000e+00 - val_loss: 0.0166 - val_accuracy: 0.0036\n",
            "Epoch 26/100\n",
            "12/12 [==============================] - 4s 342ms/step - loss: 6.4012e-04 - accuracy: 0.0000e+00 - val_loss: 0.0169 - val_accuracy: 0.0036\n",
            "Epoch 27/100\n",
            "12/12 [==============================] - 4s 364ms/step - loss: 6.2491e-04 - accuracy: 0.0000e+00 - val_loss: 0.0156 - val_accuracy: 0.0036\n",
            "Epoch 28/100\n",
            "12/12 [==============================] - 4s 317ms/step - loss: 6.0965e-04 - accuracy: 0.0000e+00 - val_loss: 0.0137 - val_accuracy: 0.0036\n",
            "Epoch 29/100\n",
            "12/12 [==============================] - 3s 253ms/step - loss: 5.9341e-04 - accuracy: 0.0000e+00 - val_loss: 0.0144 - val_accuracy: 0.0036\n",
            "Epoch 30/100\n",
            "12/12 [==============================] - 3s 259ms/step - loss: 6.0776e-04 - accuracy: 0.0000e+00 - val_loss: 0.0125 - val_accuracy: 0.0036\n",
            "Epoch 31/100\n",
            "12/12 [==============================] - 3s 250ms/step - loss: 5.6960e-04 - accuracy: 0.0000e+00 - val_loss: 0.0136 - val_accuracy: 0.0036\n",
            "Epoch 32/100\n",
            "12/12 [==============================] - 3s 253ms/step - loss: 5.3904e-04 - accuracy: 0.0000e+00 - val_loss: 0.0120 - val_accuracy: 0.0036\n",
            "Epoch 33/100\n",
            "12/12 [==============================] - 3s 254ms/step - loss: 5.3090e-04 - accuracy: 0.0000e+00 - val_loss: 0.0122 - val_accuracy: 0.0036\n",
            "Epoch 34/100\n",
            "12/12 [==============================] - 3s 292ms/step - loss: 5.6582e-04 - accuracy: 0.0000e+00 - val_loss: 0.0128 - val_accuracy: 0.0036\n",
            "Epoch 35/100\n",
            "12/12 [==============================] - 5s 444ms/step - loss: 5.3597e-04 - accuracy: 0.0000e+00 - val_loss: 0.0108 - val_accuracy: 0.0036\n",
            "Epoch 36/100\n",
            "12/12 [==============================] - 7s 559ms/step - loss: 5.2777e-04 - accuracy: 0.0000e+00 - val_loss: 0.0113 - val_accuracy: 0.0036\n",
            "Epoch 37/100\n",
            "12/12 [==============================] - 4s 361ms/step - loss: 5.4699e-04 - accuracy: 0.0000e+00 - val_loss: 0.0106 - val_accuracy: 0.0036\n",
            "Epoch 38/100\n",
            "12/12 [==============================] - 3s 256ms/step - loss: 5.2306e-04 - accuracy: 0.0000e+00 - val_loss: 0.0097 - val_accuracy: 0.0036\n",
            "Epoch 39/100\n",
            "12/12 [==============================] - 3s 257ms/step - loss: 5.0201e-04 - accuracy: 0.0000e+00 - val_loss: 0.0116 - val_accuracy: 0.0036\n",
            "Epoch 40/100\n",
            "12/12 [==============================] - 5s 412ms/step - loss: 5.3392e-04 - accuracy: 0.0000e+00 - val_loss: 0.0107 - val_accuracy: 0.0036\n",
            "Epoch 41/100\n",
            "12/12 [==============================] - 3s 277ms/step - loss: 6.5374e-04 - accuracy: 0.0000e+00 - val_loss: 0.0088 - val_accuracy: 0.0036\n",
            "Epoch 42/100\n",
            "12/12 [==============================] - 3s 250ms/step - loss: 5.3156e-04 - accuracy: 0.0000e+00 - val_loss: 0.0124 - val_accuracy: 0.0036\n",
            "Epoch 43/100\n",
            "12/12 [==============================] - 3s 249ms/step - loss: 5.1001e-04 - accuracy: 0.0000e+00 - val_loss: 0.0098 - val_accuracy: 0.0036\n",
            "Epoch 44/100\n",
            "12/12 [==============================] - 3s 250ms/step - loss: 4.5227e-04 - accuracy: 0.0000e+00 - val_loss: 0.0096 - val_accuracy: 0.0036\n",
            "Epoch 45/100\n",
            "12/12 [==============================] - 3s 250ms/step - loss: 4.5653e-04 - accuracy: 0.0000e+00 - val_loss: 0.0085 - val_accuracy: 0.0036\n",
            "Epoch 46/100\n",
            "12/12 [==============================] - 3s 253ms/step - loss: 4.8732e-04 - accuracy: 0.0000e+00 - val_loss: 0.0088 - val_accuracy: 0.0036\n",
            "Epoch 47/100\n",
            "12/12 [==============================] - 3s 248ms/step - loss: 4.3455e-04 - accuracy: 0.0000e+00 - val_loss: 0.0100 - val_accuracy: 0.0036\n",
            "Epoch 48/100\n",
            "12/12 [==============================] - 3s 255ms/step - loss: 4.4373e-04 - accuracy: 0.0000e+00 - val_loss: 0.0100 - val_accuracy: 0.0036\n",
            "Epoch 49/100\n",
            "12/12 [==============================] - 3s 253ms/step - loss: 4.5123e-04 - accuracy: 0.0000e+00 - val_loss: 0.0080 - val_accuracy: 0.0036\n",
            "Epoch 50/100\n",
            "12/12 [==============================] - 3s 251ms/step - loss: 4.9850e-04 - accuracy: 0.0000e+00 - val_loss: 0.0107 - val_accuracy: 0.0036\n",
            "Epoch 51/100\n",
            "12/12 [==============================] - 3s 247ms/step - loss: 4.9484e-04 - accuracy: 0.0000e+00 - val_loss: 0.0086 - val_accuracy: 0.0036\n",
            "Epoch 52/100\n",
            "12/12 [==============================] - 4s 322ms/step - loss: 4.7480e-04 - accuracy: 0.0000e+00 - val_loss: 0.0087 - val_accuracy: 0.0036\n",
            "Epoch 53/100\n",
            "12/12 [==============================] - 4s 325ms/step - loss: 4.0775e-04 - accuracy: 0.0000e+00 - val_loss: 0.0091 - val_accuracy: 0.0036\n",
            "Epoch 54/100\n",
            "12/12 [==============================] - 4s 313ms/step - loss: 4.0464e-04 - accuracy: 0.0000e+00 - val_loss: 0.0099 - val_accuracy: 0.0036\n",
            "Epoch 55/100\n",
            "12/12 [==============================] - 3s 251ms/step - loss: 4.2503e-04 - accuracy: 0.0000e+00 - val_loss: 0.0084 - val_accuracy: 0.0036\n",
            "Epoch 56/100\n",
            "12/12 [==============================] - 3s 248ms/step - loss: 4.1981e-04 - accuracy: 0.0000e+00 - val_loss: 0.0086 - val_accuracy: 0.0036\n",
            "Epoch 57/100\n",
            "12/12 [==============================] - 3s 254ms/step - loss: 4.0300e-04 - accuracy: 0.0000e+00 - val_loss: 0.0085 - val_accuracy: 0.0036\n",
            "Epoch 58/100\n",
            "12/12 [==============================] - 3s 249ms/step - loss: 4.3400e-04 - accuracy: 0.0000e+00 - val_loss: 0.0081 - val_accuracy: 0.0036\n",
            "Epoch 59/100\n",
            "12/12 [==============================] - 3s 252ms/step - loss: 3.9186e-04 - accuracy: 0.0000e+00 - val_loss: 0.0073 - val_accuracy: 0.0036\n",
            "Epoch 60/100\n",
            "12/12 [==============================] - 3s 251ms/step - loss: 4.5588e-04 - accuracy: 0.0000e+00 - val_loss: 0.0078 - val_accuracy: 0.0036\n",
            "Epoch 61/100\n",
            "12/12 [==============================] - 3s 248ms/step - loss: 3.9022e-04 - accuracy: 0.0000e+00 - val_loss: 0.0086 - val_accuracy: 0.0036\n",
            "Epoch 62/100\n",
            "12/12 [==============================] - 3s 246ms/step - loss: 3.8548e-04 - accuracy: 0.0000e+00 - val_loss: 0.0082 - val_accuracy: 0.0036\n",
            "Epoch 63/100\n",
            "12/12 [==============================] - 3s 250ms/step - loss: 3.7813e-04 - accuracy: 0.0000e+00 - val_loss: 0.0076 - val_accuracy: 0.0036\n",
            "Epoch 64/100\n",
            "12/12 [==============================] - 3s 256ms/step - loss: 3.8178e-04 - accuracy: 0.0000e+00 - val_loss: 0.0075 - val_accuracy: 0.0036\n",
            "Epoch 65/100\n",
            "12/12 [==============================] - 3s 250ms/step - loss: 3.6698e-04 - accuracy: 0.0000e+00 - val_loss: 0.0078 - val_accuracy: 0.0036\n",
            "Epoch 66/100\n",
            "12/12 [==============================] - 3s 252ms/step - loss: 3.6851e-04 - accuracy: 0.0000e+00 - val_loss: 0.0078 - val_accuracy: 0.0036\n",
            "Epoch 67/100\n",
            "12/12 [==============================] - 3s 247ms/step - loss: 3.6508e-04 - accuracy: 0.0000e+00 - val_loss: 0.0068 - val_accuracy: 0.0036\n",
            "Epoch 68/100\n",
            "12/12 [==============================] - 3s 245ms/step - loss: 3.8773e-04 - accuracy: 0.0000e+00 - val_loss: 0.0073 - val_accuracy: 0.0036\n",
            "Epoch 69/100\n",
            "12/12 [==============================] - 3s 255ms/step - loss: 3.5553e-04 - accuracy: 0.0000e+00 - val_loss: 0.0070 - val_accuracy: 0.0036\n",
            "Epoch 70/100\n",
            "12/12 [==============================] - 3s 252ms/step - loss: 3.9242e-04 - accuracy: 0.0000e+00 - val_loss: 0.0075 - val_accuracy: 0.0036\n",
            "Epoch 71/100\n",
            "12/12 [==============================] - 4s 317ms/step - loss: 3.4803e-04 - accuracy: 0.0000e+00 - val_loss: 0.0081 - val_accuracy: 0.0036\n",
            "Epoch 72/100\n",
            "12/12 [==============================] - 3s 257ms/step - loss: 3.6079e-04 - accuracy: 0.0000e+00 - val_loss: 0.0075 - val_accuracy: 0.0036\n",
            "Epoch 73/100\n",
            "12/12 [==============================] - 3s 253ms/step - loss: 3.3931e-04 - accuracy: 0.0000e+00 - val_loss: 0.0067 - val_accuracy: 0.0036\n",
            "Epoch 74/100\n",
            "12/12 [==============================] - 3s 251ms/step - loss: 3.8709e-04 - accuracy: 0.0000e+00 - val_loss: 0.0066 - val_accuracy: 0.0036\n",
            "Epoch 75/100\n",
            "12/12 [==============================] - 3s 252ms/step - loss: 3.6958e-04 - accuracy: 0.0000e+00 - val_loss: 0.0069 - val_accuracy: 0.0036\n",
            "Epoch 76/100\n",
            "12/12 [==============================] - 3s 251ms/step - loss: 6.3094e-04 - accuracy: 0.0000e+00 - val_loss: 0.0065 - val_accuracy: 0.0036\n",
            "Epoch 77/100\n",
            "12/12 [==============================] - 3s 254ms/step - loss: 4.2160e-04 - accuracy: 0.0000e+00 - val_loss: 0.0064 - val_accuracy: 0.0036\n",
            "Epoch 78/100\n",
            "12/12 [==============================] - 3s 251ms/step - loss: 4.9964e-04 - accuracy: 0.0000e+00 - val_loss: 0.0068 - val_accuracy: 0.0036\n",
            "Epoch 79/100\n",
            "12/12 [==============================] - 3s 257ms/step - loss: 4.9877e-04 - accuracy: 0.0000e+00 - val_loss: 0.0078 - val_accuracy: 0.0036\n",
            "Epoch 80/100\n",
            "12/12 [==============================] - 3s 253ms/step - loss: 3.6091e-04 - accuracy: 0.0000e+00 - val_loss: 0.0066 - val_accuracy: 0.0036\n",
            "Epoch 81/100\n",
            "12/12 [==============================] - 3s 255ms/step - loss: 3.3230e-04 - accuracy: 0.0000e+00 - val_loss: 0.0072 - val_accuracy: 0.0036\n",
            "Epoch 82/100\n",
            "12/12 [==============================] - 3s 256ms/step - loss: 3.4228e-04 - accuracy: 0.0000e+00 - val_loss: 0.0070 - val_accuracy: 0.0036\n",
            "Epoch 83/100\n",
            "12/12 [==============================] - 3s 255ms/step - loss: 3.2950e-04 - accuracy: 0.0000e+00 - val_loss: 0.0062 - val_accuracy: 0.0036\n",
            "Epoch 84/100\n",
            "12/12 [==============================] - 3s 258ms/step - loss: 3.5363e-04 - accuracy: 0.0000e+00 - val_loss: 0.0062 - val_accuracy: 0.0036\n",
            "Epoch 85/100\n",
            "12/12 [==============================] - 3s 255ms/step - loss: 3.5754e-04 - accuracy: 0.0000e+00 - val_loss: 0.0063 - val_accuracy: 0.0036\n",
            "Epoch 86/100\n",
            "12/12 [==============================] - 3s 258ms/step - loss: 3.5210e-04 - accuracy: 0.0000e+00 - val_loss: 0.0070 - val_accuracy: 0.0036\n",
            "Epoch 87/100\n",
            "12/12 [==============================] - 3s 256ms/step - loss: 3.1852e-04 - accuracy: 0.0000e+00 - val_loss: 0.0063 - val_accuracy: 0.0036\n",
            "Epoch 88/100\n",
            "12/12 [==============================] - 3s 255ms/step - loss: 3.5902e-04 - accuracy: 0.0000e+00 - val_loss: 0.0059 - val_accuracy: 0.0036\n",
            "Epoch 89/100\n",
            "12/12 [==============================] - 3s 262ms/step - loss: 3.4322e-04 - accuracy: 0.0000e+00 - val_loss: 0.0061 - val_accuracy: 0.0036\n",
            "Epoch 90/100\n",
            "12/12 [==============================] - 3s 252ms/step - loss: 3.5585e-04 - accuracy: 0.0000e+00 - val_loss: 0.0060 - val_accuracy: 0.0036\n",
            "Epoch 91/100\n",
            "12/12 [==============================] - 3s 252ms/step - loss: 3.1611e-04 - accuracy: 0.0000e+00 - val_loss: 0.0067 - val_accuracy: 0.0036\n",
            "Epoch 92/100\n",
            "12/12 [==============================] - 3s 250ms/step - loss: 3.3784e-04 - accuracy: 0.0000e+00 - val_loss: 0.0061 - val_accuracy: 0.0036\n",
            "Epoch 93/100\n",
            "12/12 [==============================] - 3s 253ms/step - loss: 3.1079e-04 - accuracy: 0.0000e+00 - val_loss: 0.0063 - val_accuracy: 0.0036\n",
            "Epoch 94/100\n",
            "12/12 [==============================] - 3s 250ms/step - loss: 3.1222e-04 - accuracy: 0.0000e+00 - val_loss: 0.0057 - val_accuracy: 0.0036\n",
            "Epoch 95/100\n",
            "12/12 [==============================] - 3s 251ms/step - loss: 3.4678e-04 - accuracy: 0.0000e+00 - val_loss: 0.0062 - val_accuracy: 0.0036\n",
            "Epoch 96/100\n",
            "12/12 [==============================] - 3s 256ms/step - loss: 3.0082e-04 - accuracy: 0.0000e+00 - val_loss: 0.0059 - val_accuracy: 0.0036\n",
            "Epoch 97/100\n",
            "12/12 [==============================] - 3s 256ms/step - loss: 3.0548e-04 - accuracy: 0.0000e+00 - val_loss: 0.0056 - val_accuracy: 0.0036\n",
            "Epoch 98/100\n",
            "12/12 [==============================] - 3s 250ms/step - loss: 3.1690e-04 - accuracy: 0.0000e+00 - val_loss: 0.0063 - val_accuracy: 0.0036\n",
            "Epoch 99/100\n",
            "12/12 [==============================] - 3s 255ms/step - loss: 2.9645e-04 - accuracy: 0.0000e+00 - val_loss: 0.0053 - val_accuracy: 0.0036\n",
            "Epoch 100/100\n",
            "12/12 [==============================] - 3s 252ms/step - loss: 3.4576e-04 - accuracy: 0.0000e+00 - val_loss: 0.0058 - val_accuracy: 0.0036\n"
          ]
        },
        {
          "output_type": "execute_result",
          "data": {
            "text/plain": [
              "<keras.callbacks.History at 0x7f5e13f15910>"
            ]
          },
          "metadata": {},
          "execution_count": 22
        }
      ]
    },
    {
      "cell_type": "code",
      "source": [
        "# prediction on X_train and X_test\n",
        "train_predict=model.predict(X_train)\n",
        "test_predict=model.predict(X_test)"
      ],
      "metadata": {
        "colab": {
          "base_uri": "https://localhost:8080/"
        },
        "id": "IO9BgBZeBKz5",
        "outputId": "3be98a96-4d68-42bf-9591-bff4c818af12"
      },
      "execution_count": 69,
      "outputs": [
        {
          "output_type": "stream",
          "name": "stdout",
          "text": [
            "25/25 [==============================] - 1s 44ms/step\n",
            "9/9 [==============================] - 0s 43ms/step\n"
          ]
        }
      ]
    },
    {
      "cell_type": "code",
      "source": [
        "# Transforming back to original values\n",
        "train_predict=scaler.inverse_transform(train_predict)\n",
        "test_predict=scaler.inverse_transform(test_predict)"
      ],
      "metadata": {
        "id": "RqeqmKsWBaVL"
      },
      "execution_count": 25,
      "outputs": []
    },
    {
      "cell_type": "code",
      "source": [
        "# RMSE performance metrics\n",
        "\n",
        "math.sqrt(mean_squared_error(y_train,train_predict))"
      ],
      "metadata": {
        "colab": {
          "base_uri": "https://localhost:8080/"
        },
        "id": "Yj71bhaLBaXw",
        "outputId": "508769ba-aa88-4d7d-cea8-2cf8cc8df56d"
      },
      "execution_count": 26,
      "outputs": [
        {
          "output_type": "execute_result",
          "data": {
            "text/plain": [
              "112.808453814463"
            ]
          },
          "metadata": {},
          "execution_count": 26
        }
      ]
    },
    {
      "cell_type": "code",
      "source": [
        "# Test RMSE on data\n",
        "math.sqrt(mean_squared_error(ytest,test_predict))"
      ],
      "metadata": {
        "colab": {
          "base_uri": "https://localhost:8080/"
        },
        "id": "_dB3lIOzBaaS",
        "outputId": "79aa39dc-864d-4178-f8d9-11acde28b419"
      },
      "execution_count": 27,
      "outputs": [
        {
          "output_type": "execute_result",
          "data": {
            "text/plain": [
              "154.38313330901224"
            ]
          },
          "metadata": {},
          "execution_count": 27
        }
      ]
    },
    {
      "cell_type": "code",
      "source": [
        "plt.plot(scaler.inverse_transform(df1))\n"
      ],
      "metadata": {
        "colab": {
          "base_uri": "https://localhost:8080/",
          "height": 285
        },
        "id": "Xr5kj0I6DGq_",
        "outputId": "21b0aae8-25f8-4d1f-922e-4e5c619aae47"
      },
      "execution_count": 29,
      "outputs": [
        {
          "output_type": "execute_result",
          "data": {
            "text/plain": [
              "[<matplotlib.lines.Line2D at 0x7f5e13adad90>]"
            ]
          },
          "metadata": {},
          "execution_count": 29
        },
        {
          "output_type": "display_data",
          "data": {
            "text/plain": [
              "<Figure size 432x288 with 1 Axes>"
            ],
            "image/png": "[encoded data removed]"
          },
          "metadata": {
            "needs_background": "light"
          }
        }
      ]
    },
    {
      "cell_type": "code",
      "source": [
        "plt.plot(train_predict)\n"
      ],
      "metadata": {
        "colab": {
          "base_uri": "https://localhost:8080/",
          "height": 282
        },
        "id": "zRpEy5_zEMmn",
        "outputId": "6df305fd-3d31-4149-dc54-df3063dc6ab2"
      },
      "execution_count": 30,
      "outputs": [
        {
          "output_type": "execute_result",
          "data": {
            "text/plain": [
              "[<matplotlib.lines.Line2D at 0x7f5e13a550d0>]"
            ]
          },
          "metadata": {},
          "execution_count": 30
        },
        {
          "output_type": "display_data",
          "data": {
            "text/plain": [
              "<Figure size 432x288 with 1 Axes>"
            ],
            "image/png": "[encoded data removed]"
          },
          "metadata": {
            "needs_background": "light"
          }
        }
      ]
    },
    {
      "cell_type": "code",
      "source": [
        "plt.plot(test_predict)\n"
      ],
      "metadata": {
        "colab": {
          "base_uri": "https://localhost:8080/",
          "height": 282
        },
        "id": "RpjgLQrVEVoY",
        "outputId": "71729192-ff84-4124-d94a-4edcea547156"
      },
      "execution_count": 31,
      "outputs": [
        {
          "output_type": "execute_result",
          "data": {
            "text/plain": [
              "[<matplotlib.lines.Line2D at 0x7f5e13a22d90>]"
            ]
          },
          "metadata": {},
          "execution_count": 31
        },
        {
          "output_type": "display_data",
          "data": {
            "text/plain": [
              "<Figure size 432x288 with 1 Axes>"
            ],
            "image/png": "[encoded data removed]"
          },
          "metadata": {
            "needs_background": "light"
          }
        }
      ]
    },
    {
      "cell_type": "code",
      "source": [
        "x_input=test_data[279:].reshape(1,-1)\n",
        "x_input.shape"
      ],
      "metadata": {
        "colab": {
          "base_uri": "https://localhost:8080/"
        },
        "id": "HqpVhkcXEYNP",
        "outputId": "4b602b65-627f-4258-a730-c34899adb201"
      },
      "execution_count": 36,
      "outputs": [
        {
          "output_type": "execute_result",
          "data": {
            "text/plain": [
              "(1, 99)"
            ]
          },
          "metadata": {},
          "execution_count": 36
        }
      ]
    },
    {
      "cell_type": "code",
      "source": [
        "new_input=list(x_input)\n",
        "new_input=new_input[0].tolist()\n",
        "new_input"
      ],
      "metadata": {
        "colab": {
          "base_uri": "https://localhost:8080/"
        },
        "id": "0IbWrP2wEZuZ",
        "outputId": "2cf6f0dd-4ed1-4a3b-9a23-265a23b5a271"
      },
      "execution_count": 39,
      "outputs": [
        {
          "output_type": "execute_result",
          "data": {
            "text/plain": [
              "[0.8103491902834008,\n",
              " 0.8123734817813764,\n",
              " 0.8340713562753035,\n",
              " 0.8338815789473684,\n",
              " 0.8582363360323886,\n",
              " 0.8679149797570849,\n",
              " 0.8656376518218623,\n",
              " 0.8794913967611335,\n",
              " 0.8689903846153846,\n",
              " 0.8372975708502024,\n",
              " 0.8292004048582997,\n",
              " 0.8196482793522266,\n",
              " 0.8316675101214575,\n",
              " 0.8378036437246963,\n",
              " 0.8054149797570849,\n",
              " 0.031313259109311764,\n",
              " 0.030680668016194346,\n",
              " 0.030237854251012164,\n",
              " 0.0331477732793522,\n",
              " 0.031186740890688236,\n",
              " 0.03713309716599189,\n",
              " 0.048519736842105254,\n",
              " 0.05275809716599189,\n",
              " 0.05383350202429149,\n",
              " 0.059210526315789436,\n",
              " 0.044913967611336036,\n",
              " 0.046052631578947345,\n",
              " 0.04023279352226716,\n",
              " 0.039600202429149745,\n",
              " 0.03782894736842102,\n",
              " 0.028150303643724672,\n",
              " 0.02416497975708498,\n",
              " 0.01676366396761131,\n",
              " 0.013790485829959509,\n",
              " 0.011513157894736836,\n",
              " 0.013980263157894746,\n",
              " 0.02258350202429149,\n",
              " 0.014929149797570818,\n",
              " 0.012209008097165963,\n",
              " 0.0226467611336032,\n",
              " 0.032578441295546545,\n",
              " 0.03143977732793518,\n",
              " 0.030111336032388636,\n",
              " 0.018408400809716563,\n",
              " 0.018661437246963564,\n",
              " 0.02119180161943318,\n",
              " 0.017902327935222673,\n",
              " 0.02403846153846151,\n",
              " 0.0,\n",
              " 0.012651821862348145,\n",
              " 0.015561740890688236,\n",
              " 0.007907388663967618,\n",
              " 0.013221153846153855,\n",
              " 0.01891447368421051,\n",
              " 0.025430161943319818,\n",
              " 0.03669028340080971,\n",
              " 0.0334008097165992,\n",
              " 0.03732287449392713,\n",
              " 0.04763410931174089,\n",
              " 0.047381072874493946,\n",
              " 0.04807692307692307,\n",
              " 0.03776568825910931,\n",
              " 0.043142712550607254,\n",
              " 0.04523026315789469,\n",
              " 0.04845647773279349,\n",
              " 0.06212044534412947,\n",
              " 0.0560475708502024,\n",
              " 0.072494939271255,\n",
              " 0.07369686234817818,\n",
              " 0.07141953441295551,\n",
              " 0.06351214574898789,\n",
              " 0.06711791497975705,\n",
              " 0.06395495951417002,\n",
              " 0.06813006072874489,\n",
              " 0.07091346153846151,\n",
              " 0.07445597165991896,\n",
              " 0.07831477732793518,\n",
              " 0.07844129554655871,\n",
              " 0.07287449392712547,\n",
              " 0.07179908906882587,\n",
              " 0.08672823886639669,\n",
              " 0.08691801619433193,\n",
              " 0.09001771255060731,\n",
              " 0.08293269230769229,\n",
              " 0.07755566801619435,\n",
              " 0.06382844129554655,\n",
              " 0.05971659919028338,\n",
              " 0.05345394736842107,\n",
              " 0.06281629554655871,\n",
              " 0.06477732793522262,\n",
              " 0.05592105263157893,\n",
              " 0.044218117408906854,\n",
              " 0.03713309716599189,\n",
              " 0.036120951417004055,\n",
              " 0.033970141700404854,\n",
              " 0.042763157894736836,\n",
              " 0.03991649797570851,\n",
              " 0.04130819838056682,\n",
              " 0.03941042510121456]"
            ]
          },
          "metadata": {},
          "execution_count": 39
        }
      ]
    },
    {
      "cell_type": "code",
      "source": [
        "# prediction for next 60 days\n",
        "list_out=[]\n",
        "n_steps=99\n",
        "i=0\n",
        "while(i<60):\n",
        "    if(len(temp_input)>99):\n",
        "        x_input=np.array(temp_input[1:])\n",
        "        x_input=x_input.reshape(1,-1)\n",
        "        x_input = x_input.reshape((1, n_steps, 1))\n",
        "        yhat = model.predict(x_input, verbose=0)\n",
        "        temp_input.extend(yhat[0].tolist())\n",
        "        temp_input=temp_input[1:]\n",
        "        list_out.extend(yhat.tolist())\n",
        "        i=i+1\n",
        "    else:\n",
        "        x_input = x_input.reshape((1, n_steps,1))\n",
        "        yhat = model.predict(x_input, verbose=0)\n",
        "        temp_input.extend(yhat[0].tolist())\n",
        "        list_out.extend(yhat.tolist())\n",
        "        i=i+1"
      ],
      "metadata": {
        "id": "d6kJ1RYzEw-0"
      },
      "execution_count": 65,
      "outputs": []
    },
    {
      "cell_type": "code",
      "source": [
        "list_out"
      ],
      "metadata": {
        "colab": {
          "base_uri": "https://localhost:8080/"
        },
        "id": "28U_tAnuGkKF",
        "outputId": "0b50423a-f6da-4716-aac5-c7c411c29a39"
      },
      "execution_count": 66,
      "outputs": [
        {
          "output_type": "execute_result",
          "data": {
            "text/plain": [
              "[[0.1829846352338791],\n",
              " [0.1833968460559845],\n",
              " [0.18380700051784515],\n",
              " [0.18421509861946106],\n",
              " [0.184621199965477],\n",
              " [0.1850253939628601],\n",
              " [0.1854274719953537],\n",
              " [0.1858276128768921],\n",
              " [0.18622589111328125],\n",
              " [0.18662218749523163],\n",
              " [0.1870165765285492],\n",
              " [0.18740910291671753],\n",
              " [0.18779973685741425],\n",
              " [0.18818852305412292],\n",
              " [0.18857546150684357],\n",
              " [0.18896062672138214],\n",
              " [0.1893438845872879],\n",
              " [0.18972544372081757],\n",
              " [0.19010519981384277],\n",
              " [0.1904831975698471],\n",
              " [0.19085946679115295],\n",
              " [0.19123400747776031],\n",
              " [0.19160683453083038],\n",
              " [0.19197796285152435],\n",
              " [0.19234740734100342],\n",
              " [0.19271519780158997],\n",
              " [0.193081334233284],\n",
              " [0.1934458315372467],\n",
              " [0.19380870461463928],\n",
              " [0.19416990876197815],\n",
              " [0.19452963769435883],\n",
              " [0.1948876827955246],\n",
              " [0.1952442079782486],\n",
              " [0.19559916853904724],\n",
              " [0.19595256447792053],\n",
              " [0.19630444049835205],\n",
              " [0.19665485620498657],\n",
              " [0.19700366258621216],\n",
              " [0.19735106825828552],\n",
              " [0.1976969838142395],\n",
              " [0.1980413943529129],\n",
              " [0.19838440418243408],\n",
              " [0.19872593879699707],\n",
              " [0.19906604290008545],\n",
              " [0.1994047462940216],\n",
              " [0.19974203407764435],\n",
              " [0.20007799565792084],\n",
              " [0.20041248202323914],\n",
              " [0.20074564218521118],\n",
              " [0.20107747614383698],\n",
              " [0.20140789449214935],\n",
              " [0.20173701643943787],\n",
              " [0.20206484198570251],\n",
              " [0.20239128172397614],\n",
              " [0.20271645486354828],\n",
              " [0.20304034650325775],\n",
              " [0.20336297154426575],\n",
              " [0.2036842703819275],\n",
              " [0.20400439202785492],\n",
              " [0.20432314276695251]]"
            ]
          },
          "metadata": {},
          "execution_count": 66
        }
      ]
    },
    {
      "cell_type": "code",
      "source": [
        "new=np.arange(1,101)\n",
        "predct=np.arange(101,161)"
      ],
      "metadata": {
        "id": "UNl3NH6AFABx"
      },
      "execution_count": 67,
      "outputs": []
    },
    {
      "cell_type": "code",
      "source": [],
      "metadata": {
        "id": "5yWkJoGxGjH7"
      },
      "execution_count": 67,
      "outputs": []
    },
    {
      "cell_type": "code",
      "source": [
        "plt.plot(new,scaler.inverse_transform(df1[1157:]))\n",
        "plt.plot(predct,scaler.inverse_transform(list_out))"
      ],
      "metadata": {
        "colab": {
          "base_uri": "https://localhost:8080/",
          "height": 285
        },
        "id": "I7YLADHlFZsg",
        "outputId": "8297a921-80ae-43af-8ba4-aa44b38be7b6"
      },
      "execution_count": 68,
      "outputs": [
        {
          "output_type": "execute_result",
          "data": {
            "text/plain": [
              "[<matplotlib.lines.Line2D at 0x7f5e10b777f0>]"
            ]
          },
          "metadata": {},
          "execution_count": 68
        },
        {
          "output_type": "display_data",
          "data": {
            "text/plain": [
              "<Figure size 432x288 with 1 Axes>"
            ],
            "image/png": "[encoded data removed]"
          },
          "metadata": {
            "needs_background": "light"
          }
        }
      ]
    },
    {
      "cell_type": "code",
      "source": [],
      "metadata": {
        "id": "_C8o4IoyFbpy"
      },
      "execution_count": 53,
      "outputs": []
    }
  ]
}
